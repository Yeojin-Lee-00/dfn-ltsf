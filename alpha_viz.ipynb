{
 "cells": [
  {
   "cell_type": "code",
   "execution_count": null,
   "metadata": {},
   "outputs": [],
   "source": [
    "import matplotlib.pyplot as plt\n",
    "\n",
    "alpha = [0.1, 0.3, 0.5, 0.7, 0.9]\n",
    "\n",
    "plt.plot(alpha)\n",
    "plt.xlabel('Index')\n",
    "plt.ylabel('Alpha')\n",
    "plt.title('Plot of Alpha Values')\n",
    "plt.show()"
   ]
  }
 ],
 "metadata": {
  "kernelspec": {
   "display_name": "p3.8",
   "language": "python",
   "name": "python3"
  },
  "language_info": {
   "name": "python",
   "version": "3.8.19"
  }
 },
 "nbformat": 4,
 "nbformat_minor": 2
}
