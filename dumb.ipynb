{
 "cells": [
  {
   "cell_type": "code",
   "execution_count": 1,
   "metadata": {},
   "outputs": [],
   "source": [
    "import torch \n",
    "import torch.nn as nn \n"
   ]
  },
  {
   "cell_type": "code",
   "execution_count": 19,
   "metadata": {},
   "outputs": [
    {
     "name": "stdout",
     "output_type": "stream",
     "text": [
      "initial_shape:  torch.Size([7, 2, 2])\n",
      "size1:  torch.Size([7, 2, 2])\n",
      "a_shape:  torch.Size([14, 2])\n"
     ]
    }
   ],
   "source": [
    "a = torch.ones((7,2,2))\n",
    "print(\"initial_shape: \", a.shape)\n",
    "size1 = a.size()\n",
    "print(\"size1: \", size1)\n",
    "\n",
    "# the implementation was\n",
    "# Tensor t1 = tensor1.contiguous().view({-1, size1[size1.size() - 1]});\n",
    "\n",
    "a_folded = a.view(-1, size1[-1])\n",
    "print(\"a_shape: \", a_folded.shape)"
   ]
  }
 ],
 "metadata": {
  "kernelspec": {
   "display_name": "p3.8",
   "language": "python",
   "name": "python3"
  },
  "language_info": {
   "codemirror_mode": {
    "name": "ipython",
    "version": 3
   },
   "file_extension": ".py",
   "mimetype": "text/x-python",
   "name": "python",
   "nbconvert_exporter": "python",
   "pygments_lexer": "ipython3",
   "version": "3.8.undefined"
  }
 },
 "nbformat": 4,
 "nbformat_minor": 2
}
