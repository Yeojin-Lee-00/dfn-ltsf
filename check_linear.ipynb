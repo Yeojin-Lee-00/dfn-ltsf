{
 "cells": [
  {
   "cell_type": "code",
   "execution_count": 2,
   "metadata": {},
   "outputs": [],
   "source": [
    "import torch \n",
    "import torch.nn as nn \n",
    "import torch.nn.functional as F"
   ]
  },
  {
   "cell_type": "code",
   "execution_count": 5,
   "metadata": {},
   "outputs": [
    {
     "data": {
      "text/plain": [
       "tensor([[1., 2., 3.],\n",
       "        [1., 2., 3.],\n",
       "        [1., 2., 3.],\n",
       "        [1., 2., 3.],\n",
       "        [1., 2., 3.]])"
      ]
     },
     "execution_count": 5,
     "metadata": {},
     "output_type": "execute_result"
    }
   ],
   "source": [
    "a = torch.Tensor([[1,2,3,4,5],[6,7,8,9,10],[11,12,13,14,15]])\n",
    "a.T\n",
    "b = torch.Tensor([[1,2,3,4,5],[1,2,3,4,5],[1,2,3,4,5]])\n",
    "b.T\n",
    "c = torch.Tensor([[1,1,1,1,1],[2,2,2,2,2],[3,3,3,3,3]])\n",
    "c.T\n"
   ]
  },
  {
   "cell_type": "code",
   "execution_count": 7,
   "metadata": {},
   "outputs": [
    {
     "data": {
      "text/plain": [
       "tensor([[2., 0., 0., 0.],\n",
       "        [0., 4., 0., 0.],\n",
       "        [0., 0., 6., 0.],\n",
       "        [0., 0., 0., 2.]])"
      ]
     },
     "execution_count": 7,
     "metadata": {},
     "output_type": "execute_result"
    }
   ],
   "source": [
    "d = torch.Tensor([[1,0,0,0],[0,2,0,0],[0,0,3,0],[0,0,0,1]])\n",
    "e = torch.Tensor([[2,0,0,0],[0,2,0,0],[0,0,2,0],[0,0,0,2]])\n",
    "d*e"
   ]
  },
  {
   "cell_type": "code",
   "execution_count": 30,
   "metadata": {},
   "outputs": [
    {
     "name": "stdout",
     "output_type": "stream",
     "text": [
      "torch.Size([24, 104])\n"
     ]
    }
   ],
   "source": [
    "a = torch.ones(32,7,104)\n",
    "b = torch.ones(24,104)\n",
    "\n",
    "b_mean = torch.mean(b, dim=0)\n",
    "b_ret = b_mean.repeat(b.shape[0],1)\n",
    "print(b_ret.shape)\n"
   ]
  },
  {
   "cell_type": "code",
   "execution_count": 23,
   "metadata": {},
   "outputs": [
    {
     "name": "stdout",
     "output_type": "stream",
     "text": [
      "torch.Size([32, 7, 24])\n"
     ]
    }
   ],
   "source": [
    "lin = F.linear(a,b)\n",
    "print(lin.shape)"
   ]
  },
  {
   "cell_type": "code",
   "execution_count": 3,
   "metadata": {},
   "outputs": [
    {
     "data": {
      "text/plain": [
       "[tensor(1., grad_fn=<SumBackward0>),\n",
       " tensor(1.0000, grad_fn=<SumBackward0>),\n",
       " tensor(1.0000, grad_fn=<SumBackward0>),\n",
       " tensor(1.0000, grad_fn=<SumBackward0>),\n",
       " tensor(1.0000, grad_fn=<SumBackward0>),\n",
       " tensor(1.0000, grad_fn=<SumBackward0>),\n",
       " tensor(1.0000, grad_fn=<SumBackward0>),\n",
       " tensor(1.0000, grad_fn=<SumBackward0>),\n",
       " tensor(1.0000, grad_fn=<SumBackward0>),\n",
       " tensor(1.0000, grad_fn=<SumBackward0>),\n",
       " tensor(1.0000, grad_fn=<SumBackward0>),\n",
       " tensor(1.0000, grad_fn=<SumBackward0>),\n",
       " tensor(1.0000, grad_fn=<SumBackward0>),\n",
       " tensor(1.0000, grad_fn=<SumBackward0>),\n",
       " tensor(1.0000, grad_fn=<SumBackward0>),\n",
       " tensor(1.0000, grad_fn=<SumBackward0>),\n",
       " tensor(1.0000, grad_fn=<SumBackward0>),\n",
       " tensor(1.0000, grad_fn=<SumBackward0>),\n",
       " tensor(1.0000, grad_fn=<SumBackward0>),\n",
       " tensor(1.0000, grad_fn=<SumBackward0>),\n",
       " tensor(1.0000, grad_fn=<SumBackward0>),\n",
       " tensor(1.0000, grad_fn=<SumBackward0>),\n",
       " tensor(1.0000, grad_fn=<SumBackward0>),\n",
       " tensor(1.0000, grad_fn=<SumBackward0>),\n",
       " tensor(1.0000, grad_fn=<SumBackward0>),\n",
       " tensor(1.0000, grad_fn=<SumBackward0>),\n",
       " tensor(1.0000, grad_fn=<SumBackward0>),\n",
       " tensor(1.0000, grad_fn=<SumBackward0>),\n",
       " tensor(1.0000, grad_fn=<SumBackward0>),\n",
       " tensor(1.0000, grad_fn=<SumBackward0>),\n",
       " tensor(1.0000, grad_fn=<SumBackward0>),\n",
       " tensor(1.0000, grad_fn=<SumBackward0>),\n",
       " tensor(1.0000, grad_fn=<SumBackward0>),\n",
       " tensor(1.0000, grad_fn=<SumBackward0>),\n",
       " tensor(1.0000, grad_fn=<SumBackward0>),\n",
       " tensor(1.0000, grad_fn=<SumBackward0>),\n",
       " tensor(1.0000, grad_fn=<SumBackward0>),\n",
       " tensor(1.0000, grad_fn=<SumBackward0>),\n",
       " tensor(1.0000, grad_fn=<SumBackward0>),\n",
       " tensor(1.0000, grad_fn=<SumBackward0>),\n",
       " tensor(1.0000, grad_fn=<SumBackward0>),\n",
       " tensor(1.0000, grad_fn=<SumBackward0>),\n",
       " tensor(1.0000, grad_fn=<SumBackward0>),\n",
       " tensor(1.0000, grad_fn=<SumBackward0>),\n",
       " tensor(1.0000, grad_fn=<SumBackward0>),\n",
       " tensor(1.0000, grad_fn=<SumBackward0>),\n",
       " tensor(1.0000, grad_fn=<SumBackward0>),\n",
       " tensor(1.0000, grad_fn=<SumBackward0>),\n",
       " tensor(1.0000, grad_fn=<SumBackward0>),\n",
       " tensor(1.0000, grad_fn=<SumBackward0>),\n",
       " tensor(1.0000, grad_fn=<SumBackward0>),\n",
       " tensor(1.0000, grad_fn=<SumBackward0>),\n",
       " tensor(1.0000, grad_fn=<SumBackward0>),\n",
       " tensor(1.0000, grad_fn=<SumBackward0>),\n",
       " tensor(1.0000, grad_fn=<SumBackward0>),\n",
       " tensor(1.0000, grad_fn=<SumBackward0>),\n",
       " tensor(1.0000, grad_fn=<SumBackward0>),\n",
       " tensor(1.0000, grad_fn=<SumBackward0>),\n",
       " tensor(1.0000, grad_fn=<SumBackward0>),\n",
       " tensor(1.0000, grad_fn=<SumBackward0>),\n",
       " tensor(1.0000, grad_fn=<SumBackward0>),\n",
       " tensor(1.0000, grad_fn=<SumBackward0>),\n",
       " tensor(1.0000, grad_fn=<SumBackward0>),\n",
       " tensor(1.0000, grad_fn=<SumBackward0>),\n",
       " tensor(1.0000, grad_fn=<SumBackward0>),\n",
       " tensor(1.0000, grad_fn=<SumBackward0>),\n",
       " tensor(1.0000, grad_fn=<SumBackward0>),\n",
       " tensor(1.0000, grad_fn=<SumBackward0>),\n",
       " tensor(1.0000, grad_fn=<SumBackward0>),\n",
       " tensor(1.0000, grad_fn=<SumBackward0>),\n",
       " tensor(1.0000, grad_fn=<SumBackward0>),\n",
       " tensor(1.0000, grad_fn=<SumBackward0>),\n",
       " tensor(1.0000, grad_fn=<SumBackward0>),\n",
       " tensor(1.0000, grad_fn=<SumBackward0>),\n",
       " tensor(1.0000, grad_fn=<SumBackward0>),\n",
       " tensor(1.0000, grad_fn=<SumBackward0>),\n",
       " tensor(1.0000, grad_fn=<SumBackward0>),\n",
       " tensor(1.0000, grad_fn=<SumBackward0>),\n",
       " tensor(1.0000, grad_fn=<SumBackward0>),\n",
       " tensor(1.0000, grad_fn=<SumBackward0>),\n",
       " tensor(1.0000, grad_fn=<SumBackward0>),\n",
       " tensor(1.0000, grad_fn=<SumBackward0>),\n",
       " tensor(1.0000, grad_fn=<SumBackward0>),\n",
       " tensor(1.0000, grad_fn=<SumBackward0>),\n",
       " tensor(1.0000, grad_fn=<SumBackward0>),\n",
       " tensor(1.0000, grad_fn=<SumBackward0>),\n",
       " tensor(1.0000, grad_fn=<SumBackward0>),\n",
       " tensor(1.0000, grad_fn=<SumBackward0>),\n",
       " tensor(1.0000, grad_fn=<SumBackward0>),\n",
       " tensor(1.0000, grad_fn=<SumBackward0>),\n",
       " tensor(1.0000, grad_fn=<SumBackward0>),\n",
       " tensor(1.0000, grad_fn=<SumBackward0>),\n",
       " tensor(1.0000, grad_fn=<SumBackward0>),\n",
       " tensor(1.0000, grad_fn=<SumBackward0>),\n",
       " tensor(1.0000, grad_fn=<SumBackward0>),\n",
       " tensor(1.0000, grad_fn=<SumBackward0>),\n",
       " tensor(1.0000, grad_fn=<SumBackward0>),\n",
       " tensor(1.0000, grad_fn=<SumBackward0>),\n",
       " tensor(1.0000, grad_fn=<SumBackward0>),\n",
       " tensor(1.0000, grad_fn=<SumBackward0>)]"
      ]
     },
     "execution_count": 3,
     "metadata": {},
     "output_type": "execute_result"
    }
   ],
   "source": [
    "# softmax trials \n",
    "import matplotlib.pyplot as plt\n",
    "\n",
    "a = torch.randn(1,7)\n",
    "grad = torch.randn(1,7)\n",
    "\n",
    "a.requires_grad = True\n",
    "\n",
    "sum_track = []\n",
    "for i in range(100):\n",
    "    out = F.softmax(a, dim=-1)\n",
    "    sum_track.append(torch.sum(out))\n",
    "    a.grad = grad\n",
    "    a.data -= 1*a.grad\n",
    "    a.grad.zero_()\n",
    "sum_track"
   ]
  },
  {
   "cell_type": "markdown",
   "metadata": {},
   "source": []
  }
 ],
 "metadata": {
  "kernelspec": {
   "display_name": "p3.8",
   "language": "python",
   "name": "python3"
  },
  "language_info": {
   "codemirror_mode": {
    "name": "ipython",
    "version": 3
   },
   "file_extension": ".py",
   "mimetype": "text/x-python",
   "name": "python",
   "nbconvert_exporter": "python",
   "pygments_lexer": "ipython3",
   "version": "3.8.19"
  }
 },
 "nbformat": 4,
 "nbformat_minor": 2
}
